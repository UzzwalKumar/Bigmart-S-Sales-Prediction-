{
 "cells": [
  {
   "cell_type": "code",
   "execution_count": 1,
   "id": "ab6e475c",
   "metadata": {
    "_cell_guid": "b1076dfc-b9ad-4769-8c92-a6c4dae69d19",
    "_uuid": "8f2839f25d086af736a60e9eeb907d3b93b6e0e5",
    "execution": {
     "iopub.execute_input": "2022-07-23T08:44:08.518851Z",
     "iopub.status.busy": "2022-07-23T08:44:08.518209Z",
     "iopub.status.idle": "2022-07-23T08:44:08.542816Z",
     "shell.execute_reply": "2022-07-23T08:44:08.541752Z"
    },
    "papermill": {
     "duration": 0.039093,
     "end_time": "2022-07-23T08:44:08.545324",
     "exception": false,
     "start_time": "2022-07-23T08:44:08.506231",
     "status": "completed"
    },
    "tags": []
   },
   "outputs": [
    {
     "name": "stdout",
     "output_type": "stream",
     "text": [
      "/kaggle/input/big-mart-sales-prediction/Submission.csv\n",
      "/kaggle/input/big-mart-sales-prediction/Train.csv\n",
      "/kaggle/input/big-mart-sales-prediction/Test.csv\n"
     ]
    }
   ],
   "source": [
    "# This Python 3 environment comes with many helpful analytics libraries installed\n",
    "# It is defined by the kaggle/python Docker image: https://github.com/kaggle/docker-python\n",
    "# For example, here's several helpful packages to load\n",
    "\n",
    "import numpy as np # linear algebra\n",
    "import pandas as pd # data processing, CSV file I/O (e.g. pd.read_csv)\n",
    "\n",
    "# Input data files are available in the read-only \"../input/\" directory\n",
    "# For example, running this (by clicking run or pressing Shift+Enter) will list all files under the input directory\n",
    "\n",
    "import os\n",
    "for dirname, _, filenames in os.walk('/kaggle/input'):\n",
    "    for filename in filenames:\n",
    "        print(os.path.join(dirname, filename))\n",
    "\n",
    "# You can write up to 20GB to the current directory (/kaggle/working/) that gets preserved as output when you create a version using \"Save & Run All\" \n",
    "# You can also write temporary files to /kaggle/temp/, but they won't be saved outside of the current session"
   ]
  },
  {
   "cell_type": "code",
   "execution_count": 2,
   "id": "535df19c",
   "metadata": {
    "execution": {
     "iopub.execute_input": "2022-07-23T08:44:08.566508Z",
     "iopub.status.busy": "2022-07-23T08:44:08.565779Z",
     "iopub.status.idle": "2022-07-23T08:44:08.638921Z",
     "shell.execute_reply": "2022-07-23T08:44:08.637677Z"
    },
    "papermill": {
     "duration": 0.086585,
     "end_time": "2022-07-23T08:44:08.641788",
     "exception": false,
     "start_time": "2022-07-23T08:44:08.555203",
     "status": "completed"
    },
    "tags": []
   },
   "outputs": [
    {
     "data": {
      "text/html": [
       "<div>\n",
       "<style scoped>\n",
       "    .dataframe tbody tr th:only-of-type {\n",
       "        vertical-align: middle;\n",
       "    }\n",
       "\n",
       "    .dataframe tbody tr th {\n",
       "        vertical-align: top;\n",
       "    }\n",
       "\n",
       "    .dataframe thead th {\n",
       "        text-align: right;\n",
       "    }\n",
       "</style>\n",
       "<table border=\"1\" class=\"dataframe\">\n",
       "  <thead>\n",
       "    <tr style=\"text-align: right;\">\n",
       "      <th></th>\n",
       "      <th>Item_Identifier</th>\n",
       "      <th>Item_Weight</th>\n",
       "      <th>Item_Fat_Content</th>\n",
       "      <th>Item_Visibility</th>\n",
       "      <th>Item_Type</th>\n",
       "      <th>Item_MRP</th>\n",
       "      <th>Outlet_Identifier</th>\n",
       "      <th>Outlet_Establishment_Year</th>\n",
       "      <th>Outlet_Size</th>\n",
       "      <th>Outlet_Location_Type</th>\n",
       "      <th>Outlet_Type</th>\n",
       "      <th>Item_Outlet_Sales</th>\n",
       "    </tr>\n",
       "  </thead>\n",
       "  <tbody>\n",
       "    <tr>\n",
       "      <th>0</th>\n",
       "      <td>FDA15</td>\n",
       "      <td>9.30</td>\n",
       "      <td>Low Fat</td>\n",
       "      <td>0.016047</td>\n",
       "      <td>Dairy</td>\n",
       "      <td>249.8092</td>\n",
       "      <td>OUT049</td>\n",
       "      <td>1999</td>\n",
       "      <td>Medium</td>\n",
       "      <td>Tier 1</td>\n",
       "      <td>Supermarket Type1</td>\n",
       "      <td>3735.1380</td>\n",
       "    </tr>\n",
       "    <tr>\n",
       "      <th>1</th>\n",
       "      <td>DRC01</td>\n",
       "      <td>5.92</td>\n",
       "      <td>Regular</td>\n",
       "      <td>0.019278</td>\n",
       "      <td>Soft Drinks</td>\n",
       "      <td>48.2692</td>\n",
       "      <td>OUT018</td>\n",
       "      <td>2009</td>\n",
       "      <td>Medium</td>\n",
       "      <td>Tier 3</td>\n",
       "      <td>Supermarket Type2</td>\n",
       "      <td>443.4228</td>\n",
       "    </tr>\n",
       "    <tr>\n",
       "      <th>2</th>\n",
       "      <td>FDN15</td>\n",
       "      <td>17.50</td>\n",
       "      <td>Low Fat</td>\n",
       "      <td>0.016760</td>\n",
       "      <td>Meat</td>\n",
       "      <td>141.6180</td>\n",
       "      <td>OUT049</td>\n",
       "      <td>1999</td>\n",
       "      <td>Medium</td>\n",
       "      <td>Tier 1</td>\n",
       "      <td>Supermarket Type1</td>\n",
       "      <td>2097.2700</td>\n",
       "    </tr>\n",
       "    <tr>\n",
       "      <th>3</th>\n",
       "      <td>FDX07</td>\n",
       "      <td>19.20</td>\n",
       "      <td>Regular</td>\n",
       "      <td>0.000000</td>\n",
       "      <td>Fruits and Vegetables</td>\n",
       "      <td>182.0950</td>\n",
       "      <td>OUT010</td>\n",
       "      <td>1998</td>\n",
       "      <td>NaN</td>\n",
       "      <td>Tier 3</td>\n",
       "      <td>Grocery Store</td>\n",
       "      <td>732.3800</td>\n",
       "    </tr>\n",
       "    <tr>\n",
       "      <th>4</th>\n",
       "      <td>NCD19</td>\n",
       "      <td>8.93</td>\n",
       "      <td>Low Fat</td>\n",
       "      <td>0.000000</td>\n",
       "      <td>Household</td>\n",
       "      <td>53.8614</td>\n",
       "      <td>OUT013</td>\n",
       "      <td>1987</td>\n",
       "      <td>High</td>\n",
       "      <td>Tier 3</td>\n",
       "      <td>Supermarket Type1</td>\n",
       "      <td>994.7052</td>\n",
       "    </tr>\n",
       "  </tbody>\n",
       "</table>\n",
       "</div>"
      ],
      "text/plain": [
       "  Item_Identifier  Item_Weight Item_Fat_Content  Item_Visibility  \\\n",
       "0           FDA15         9.30          Low Fat         0.016047   \n",
       "1           DRC01         5.92          Regular         0.019278   \n",
       "2           FDN15        17.50          Low Fat         0.016760   \n",
       "3           FDX07        19.20          Regular         0.000000   \n",
       "4           NCD19         8.93          Low Fat         0.000000   \n",
       "\n",
       "               Item_Type  Item_MRP Outlet_Identifier  \\\n",
       "0                  Dairy  249.8092            OUT049   \n",
       "1            Soft Drinks   48.2692            OUT018   \n",
       "2                   Meat  141.6180            OUT049   \n",
       "3  Fruits and Vegetables  182.0950            OUT010   \n",
       "4              Household   53.8614            OUT013   \n",
       "\n",
       "   Outlet_Establishment_Year Outlet_Size Outlet_Location_Type  \\\n",
       "0                       1999      Medium               Tier 1   \n",
       "1                       2009      Medium               Tier 3   \n",
       "2                       1999      Medium               Tier 1   \n",
       "3                       1998         NaN               Tier 3   \n",
       "4                       1987        High               Tier 3   \n",
       "\n",
       "         Outlet_Type  Item_Outlet_Sales  \n",
       "0  Supermarket Type1          3735.1380  \n",
       "1  Supermarket Type2           443.4228  \n",
       "2  Supermarket Type1          2097.2700  \n",
       "3      Grocery Store           732.3800  \n",
       "4  Supermarket Type1           994.7052  "
      ]
     },
     "execution_count": 2,
     "metadata": {},
     "output_type": "execute_result"
    }
   ],
   "source": [
    "data=pd.read_csv(\"../input/big-mart-sales-prediction/Train.csv\")\n",
    "data.head()"
   ]
  },
  {
   "cell_type": "code",
   "execution_count": 3,
   "id": "7fca1151",
   "metadata": {
    "execution": {
     "iopub.execute_input": "2022-07-23T08:44:08.662682Z",
     "iopub.status.busy": "2022-07-23T08:44:08.661902Z",
     "iopub.status.idle": "2022-07-23T08:44:08.667911Z",
     "shell.execute_reply": "2022-07-23T08:44:08.667101Z"
    },
    "papermill": {
     "duration": 0.018876,
     "end_time": "2022-07-23T08:44:08.670003",
     "exception": false,
     "start_time": "2022-07-23T08:44:08.651127",
     "status": "completed"
    },
    "tags": []
   },
   "outputs": [
    {
     "data": {
      "text/plain": [
       "(8523, 12)"
      ]
     },
     "execution_count": 3,
     "metadata": {},
     "output_type": "execute_result"
    }
   ],
   "source": [
    "data.shape"
   ]
  },
  {
   "cell_type": "code",
   "execution_count": 4,
   "id": "c13c40a8",
   "metadata": {
    "execution": {
     "iopub.execute_input": "2022-07-23T08:44:08.692039Z",
     "iopub.status.busy": "2022-07-23T08:44:08.691371Z",
     "iopub.status.idle": "2022-07-23T08:44:08.697982Z",
     "shell.execute_reply": "2022-07-23T08:44:08.696890Z"
    },
    "papermill": {
     "duration": 0.020833,
     "end_time": "2022-07-23T08:44:08.700337",
     "exception": false,
     "start_time": "2022-07-23T08:44:08.679504",
     "status": "completed"
    },
    "tags": []
   },
   "outputs": [
    {
     "data": {
      "text/plain": [
       "Index(['Item_Identifier', 'Item_Weight', 'Item_Fat_Content', 'Item_Visibility',\n",
       "       'Item_Type', 'Item_MRP', 'Outlet_Identifier',\n",
       "       'Outlet_Establishment_Year', 'Outlet_Size', 'Outlet_Location_Type',\n",
       "       'Outlet_Type', 'Item_Outlet_Sales'],\n",
       "      dtype='object')"
      ]
     },
     "execution_count": 4,
     "metadata": {},
     "output_type": "execute_result"
    }
   ],
   "source": [
    "data.columns"
   ]
  },
  {
   "cell_type": "code",
   "execution_count": 5,
   "id": "71db38d8",
   "metadata": {
    "execution": {
     "iopub.execute_input": "2022-07-23T08:44:08.722238Z",
     "iopub.status.busy": "2022-07-23T08:44:08.721840Z",
     "iopub.status.idle": "2022-07-23T08:44:08.738162Z",
     "shell.execute_reply": "2022-07-23T08:44:08.737098Z"
    },
    "papermill": {
     "duration": 0.030071,
     "end_time": "2022-07-23T08:44:08.740433",
     "exception": false,
     "start_time": "2022-07-23T08:44:08.710362",
     "status": "completed"
    },
    "tags": []
   },
   "outputs": [
    {
     "data": {
      "text/plain": [
       "Item_Identifier                 0\n",
       "Item_Weight                  1463\n",
       "Item_Fat_Content                0\n",
       "Item_Visibility                 0\n",
       "Item_Type                       0\n",
       "Item_MRP                        0\n",
       "Outlet_Identifier               0\n",
       "Outlet_Establishment_Year       0\n",
       "Outlet_Size                  2410\n",
       "Outlet_Location_Type            0\n",
       "Outlet_Type                     0\n",
       "Item_Outlet_Sales               0\n",
       "dtype: int64"
      ]
     },
     "execution_count": 5,
     "metadata": {},
     "output_type": "execute_result"
    }
   ],
   "source": [
    "data.isnull().sum()"
   ]
  },
  {
   "cell_type": "code",
   "execution_count": 6,
   "id": "4c7a81bb",
   "metadata": {
    "execution": {
     "iopub.execute_input": "2022-07-23T08:44:08.763286Z",
     "iopub.status.busy": "2022-07-23T08:44:08.762542Z",
     "iopub.status.idle": "2022-07-23T08:44:08.769834Z",
     "shell.execute_reply": "2022-07-23T08:44:08.769046Z"
    },
    "papermill": {
     "duration": 0.021242,
     "end_time": "2022-07-23T08:44:08.772085",
     "exception": false,
     "start_time": "2022-07-23T08:44:08.750843",
     "status": "completed"
    },
    "tags": []
   },
   "outputs": [
    {
     "data": {
      "text/plain": [
       "Item_Identifier               object\n",
       "Item_Weight                  float64\n",
       "Item_Fat_Content              object\n",
       "Item_Visibility              float64\n",
       "Item_Type                     object\n",
       "Item_MRP                     float64\n",
       "Outlet_Identifier             object\n",
       "Outlet_Establishment_Year      int64\n",
       "Outlet_Size                   object\n",
       "Outlet_Location_Type          object\n",
       "Outlet_Type                   object\n",
       "Item_Outlet_Sales            float64\n",
       "dtype: object"
      ]
     },
     "execution_count": 6,
     "metadata": {},
     "output_type": "execute_result"
    }
   ],
   "source": [
    "data.dtypes #here we can say that missing values in item_weight can be treated by using mean as the dtype of it is float64 where as for outlet_size we can go for mode as it has dtype as object"
   ]
  },
  {
   "cell_type": "code",
   "execution_count": 7,
   "id": "8b9d23f1",
   "metadata": {
    "execution": {
     "iopub.execute_input": "2022-07-23T08:44:08.795980Z",
     "iopub.status.busy": "2022-07-23T08:44:08.795286Z",
     "iopub.status.idle": "2022-07-23T08:44:08.804210Z",
     "shell.execute_reply": "2022-07-23T08:44:08.803182Z"
    },
    "papermill": {
     "duration": 0.024123,
     "end_time": "2022-07-23T08:44:08.806811",
     "exception": false,
     "start_time": "2022-07-23T08:44:08.782688",
     "status": "completed"
    },
    "tags": []
   },
   "outputs": [],
   "source": [
    "data['Item_Weight'].fillna(data['Item_Weight'].mean(),inplace=True)\n"
   ]
  },
  {
   "cell_type": "code",
   "execution_count": 8,
   "id": "61097e27",
   "metadata": {
    "execution": {
     "iopub.execute_input": "2022-07-23T08:44:08.829716Z",
     "iopub.status.busy": "2022-07-23T08:44:08.829028Z",
     "iopub.status.idle": "2022-07-23T08:44:08.835369Z",
     "shell.execute_reply": "2022-07-23T08:44:08.834191Z"
    },
    "papermill": {
     "duration": 0.020629,
     "end_time": "2022-07-23T08:44:08.837941",
     "exception": false,
     "start_time": "2022-07-23T08:44:08.817312",
     "status": "completed"
    },
    "tags": []
   },
   "outputs": [],
   "source": [
    "data['Outlet_Size'].fillna('Medium',inplace=True)"
   ]
  },
  {
   "cell_type": "code",
   "execution_count": 9,
   "id": "874dc8d2",
   "metadata": {
    "execution": {
     "iopub.execute_input": "2022-07-23T08:44:08.860220Z",
     "iopub.status.busy": "2022-07-23T08:44:08.859103Z",
     "iopub.status.idle": "2022-07-23T08:44:08.876787Z",
     "shell.execute_reply": "2022-07-23T08:44:08.875670Z"
    },
    "papermill": {
     "duration": 0.031297,
     "end_time": "2022-07-23T08:44:08.879220",
     "exception": false,
     "start_time": "2022-07-23T08:44:08.847923",
     "status": "completed"
    },
    "tags": []
   },
   "outputs": [
    {
     "data": {
      "text/plain": [
       "Item_Identifier              0\n",
       "Item_Weight                  0\n",
       "Item_Fat_Content             0\n",
       "Item_Visibility              0\n",
       "Item_Type                    0\n",
       "Item_MRP                     0\n",
       "Outlet_Identifier            0\n",
       "Outlet_Establishment_Year    0\n",
       "Outlet_Size                  0\n",
       "Outlet_Location_Type         0\n",
       "Outlet_Type                  0\n",
       "Item_Outlet_Sales            0\n",
       "dtype: int64"
      ]
     },
     "execution_count": 9,
     "metadata": {},
     "output_type": "execute_result"
    }
   ],
   "source": [
    "data.isnull().sum()"
   ]
  },
  {
   "cell_type": "code",
   "execution_count": 10,
   "id": "8fec4cf1",
   "metadata": {
    "execution": {
     "iopub.execute_input": "2022-07-23T08:44:08.901025Z",
     "iopub.status.busy": "2022-07-23T08:44:08.900347Z",
     "iopub.status.idle": "2022-07-23T08:44:08.912481Z",
     "shell.execute_reply": "2022-07-23T08:44:08.911282Z"
    },
    "papermill": {
     "duration": 0.026008,
     "end_time": "2022-07-23T08:44:08.915095",
     "exception": false,
     "start_time": "2022-07-23T08:44:08.889087",
     "status": "completed"
    },
    "tags": []
   },
   "outputs": [
    {
     "data": {
      "text/plain": [
       "array(['Low Fat', 'Regular', 'low fat', 'LF', 'reg'], dtype=object)"
      ]
     },
     "execution_count": 10,
     "metadata": {},
     "output_type": "execute_result"
    }
   ],
   "source": [
    "data['Item_Fat_Content'].unique() #we need to fix the irregularity"
   ]
  },
  {
   "cell_type": "code",
   "execution_count": 11,
   "id": "2b70fc9c",
   "metadata": {
    "execution": {
     "iopub.execute_input": "2022-07-23T08:44:08.937775Z",
     "iopub.status.busy": "2022-07-23T08:44:08.937129Z",
     "iopub.status.idle": "2022-07-23T08:44:08.946757Z",
     "shell.execute_reply": "2022-07-23T08:44:08.945883Z"
    },
    "papermill": {
     "duration": 0.023504,
     "end_time": "2022-07-23T08:44:08.949274",
     "exception": false,
     "start_time": "2022-07-23T08:44:08.925770",
     "status": "completed"
    },
    "tags": []
   },
   "outputs": [],
   "source": [
    "data['Item_Fat_Content']=data['Item_Fat_Content'].replace(to_replace=['low fat','LF'],value='Low Fat')\n",
    "data['Item_Fat_Content']=data['Item_Fat_Content'].replace(to_replace='reg',value='Regular')"
   ]
  },
  {
   "cell_type": "code",
   "execution_count": 12,
   "id": "d44ed16a",
   "metadata": {
    "execution": {
     "iopub.execute_input": "2022-07-23T08:44:08.971353Z",
     "iopub.status.busy": "2022-07-23T08:44:08.970702Z",
     "iopub.status.idle": "2022-07-23T08:44:08.978754Z",
     "shell.execute_reply": "2022-07-23T08:44:08.977670Z"
    },
    "papermill": {
     "duration": 0.02172,
     "end_time": "2022-07-23T08:44:08.980892",
     "exception": false,
     "start_time": "2022-07-23T08:44:08.959172",
     "status": "completed"
    },
    "tags": []
   },
   "outputs": [
    {
     "data": {
      "text/plain": [
       "array(['Low Fat', 'Regular'], dtype=object)"
      ]
     },
     "execution_count": 12,
     "metadata": {},
     "output_type": "execute_result"
    }
   ],
   "source": [
    "data['Item_Fat_Content'].unique()"
   ]
  },
  {
   "cell_type": "code",
   "execution_count": 13,
   "id": "fe0d995a",
   "metadata": {
    "execution": {
     "iopub.execute_input": "2022-07-23T08:44:09.002609Z",
     "iopub.status.busy": "2022-07-23T08:44:09.002214Z",
     "iopub.status.idle": "2022-07-23T08:44:09.036864Z",
     "shell.execute_reply": "2022-07-23T08:44:09.035637Z"
    },
    "papermill": {
     "duration": 0.048185,
     "end_time": "2022-07-23T08:44:09.039201",
     "exception": false,
     "start_time": "2022-07-23T08:44:08.991016",
     "status": "completed"
    },
    "tags": []
   },
   "outputs": [
    {
     "data": {
      "text/html": [
       "<div>\n",
       "<style scoped>\n",
       "    .dataframe tbody tr th:only-of-type {\n",
       "        vertical-align: middle;\n",
       "    }\n",
       "\n",
       "    .dataframe tbody tr th {\n",
       "        vertical-align: top;\n",
       "    }\n",
       "\n",
       "    .dataframe thead th {\n",
       "        text-align: right;\n",
       "    }\n",
       "</style>\n",
       "<table border=\"1\" class=\"dataframe\">\n",
       "  <thead>\n",
       "    <tr style=\"text-align: right;\">\n",
       "      <th></th>\n",
       "      <th>Item_Weight</th>\n",
       "      <th>Item_Visibility</th>\n",
       "      <th>Item_MRP</th>\n",
       "      <th>Outlet_Establishment_Year</th>\n",
       "      <th>Item_Outlet_Sales</th>\n",
       "    </tr>\n",
       "  </thead>\n",
       "  <tbody>\n",
       "    <tr>\n",
       "      <th>count</th>\n",
       "      <td>8523.000000</td>\n",
       "      <td>8523.000000</td>\n",
       "      <td>8523.000000</td>\n",
       "      <td>8523.000000</td>\n",
       "      <td>8523.000000</td>\n",
       "    </tr>\n",
       "    <tr>\n",
       "      <th>mean</th>\n",
       "      <td>12.857645</td>\n",
       "      <td>0.066132</td>\n",
       "      <td>140.992782</td>\n",
       "      <td>1997.831867</td>\n",
       "      <td>2181.288914</td>\n",
       "    </tr>\n",
       "    <tr>\n",
       "      <th>std</th>\n",
       "      <td>4.226124</td>\n",
       "      <td>0.051598</td>\n",
       "      <td>62.275067</td>\n",
       "      <td>8.371760</td>\n",
       "      <td>1706.499616</td>\n",
       "    </tr>\n",
       "    <tr>\n",
       "      <th>min</th>\n",
       "      <td>4.555000</td>\n",
       "      <td>0.000000</td>\n",
       "      <td>31.290000</td>\n",
       "      <td>1985.000000</td>\n",
       "      <td>33.290000</td>\n",
       "    </tr>\n",
       "    <tr>\n",
       "      <th>25%</th>\n",
       "      <td>9.310000</td>\n",
       "      <td>0.026989</td>\n",
       "      <td>93.826500</td>\n",
       "      <td>1987.000000</td>\n",
       "      <td>834.247400</td>\n",
       "    </tr>\n",
       "    <tr>\n",
       "      <th>50%</th>\n",
       "      <td>12.857645</td>\n",
       "      <td>0.053931</td>\n",
       "      <td>143.012800</td>\n",
       "      <td>1999.000000</td>\n",
       "      <td>1794.331000</td>\n",
       "    </tr>\n",
       "    <tr>\n",
       "      <th>75%</th>\n",
       "      <td>16.000000</td>\n",
       "      <td>0.094585</td>\n",
       "      <td>185.643700</td>\n",
       "      <td>2004.000000</td>\n",
       "      <td>3101.296400</td>\n",
       "    </tr>\n",
       "    <tr>\n",
       "      <th>max</th>\n",
       "      <td>21.350000</td>\n",
       "      <td>0.328391</td>\n",
       "      <td>266.888400</td>\n",
       "      <td>2009.000000</td>\n",
       "      <td>13086.964800</td>\n",
       "    </tr>\n",
       "  </tbody>\n",
       "</table>\n",
       "</div>"
      ],
      "text/plain": [
       "       Item_Weight  Item_Visibility     Item_MRP  Outlet_Establishment_Year  \\\n",
       "count  8523.000000      8523.000000  8523.000000                8523.000000   \n",
       "mean     12.857645         0.066132   140.992782                1997.831867   \n",
       "std       4.226124         0.051598    62.275067                   8.371760   \n",
       "min       4.555000         0.000000    31.290000                1985.000000   \n",
       "25%       9.310000         0.026989    93.826500                1987.000000   \n",
       "50%      12.857645         0.053931   143.012800                1999.000000   \n",
       "75%      16.000000         0.094585   185.643700                2004.000000   \n",
       "max      21.350000         0.328391   266.888400                2009.000000   \n",
       "\n",
       "       Item_Outlet_Sales  \n",
       "count        8523.000000  \n",
       "mean         2181.288914  \n",
       "std          1706.499616  \n",
       "min            33.290000  \n",
       "25%           834.247400  \n",
       "50%          1794.331000  \n",
       "75%          3101.296400  \n",
       "max         13086.964800  "
      ]
     },
     "execution_count": 13,
     "metadata": {},
     "output_type": "execute_result"
    }
   ],
   "source": [
    "data.describe()"
   ]
  },
  {
   "cell_type": "code",
   "execution_count": 14,
   "id": "7c13daa1",
   "metadata": {
    "execution": {
     "iopub.execute_input": "2022-07-23T08:44:09.062294Z",
     "iopub.status.busy": "2022-07-23T08:44:09.061671Z",
     "iopub.status.idle": "2022-07-23T08:44:10.394582Z",
     "shell.execute_reply": "2022-07-23T08:44:10.393481Z"
    },
    "papermill": {
     "duration": 1.347715,
     "end_time": "2022-07-23T08:44:10.397556",
     "exception": false,
     "start_time": "2022-07-23T08:44:09.049841",
     "status": "completed"
    },
    "tags": []
   },
   "outputs": [],
   "source": [
    "import matplotlib.pyplot as plt \n",
    "import seaborn as sns"
   ]
  },
  {
   "cell_type": "code",
   "execution_count": 15,
   "id": "786b2df9",
   "metadata": {
    "execution": {
     "iopub.execute_input": "2022-07-23T08:44:10.422822Z",
     "iopub.status.busy": "2022-07-23T08:44:10.422370Z",
     "iopub.status.idle": "2022-07-23T08:44:10.710204Z",
     "shell.execute_reply": "2022-07-23T08:44:10.709197Z"
    },
    "papermill": {
     "duration": 0.303996,
     "end_time": "2022-07-23T08:44:10.712617",
     "exception": false,
     "start_time": "2022-07-23T08:44:10.408621",
     "status": "completed"
    },
    "tags": []
   },
   "outputs": [
    {
     "data": {
      "text/plain": [
       "<AxesSubplot:xlabel='Item_MRP', ylabel='Item_Outlet_Sales'>"
      ]
     },
     "execution_count": 15,
     "metadata": {},
     "output_type": "execute_result"
    },
    {
     "data": {
      "image/png": "[encoded data removed]",
      "text/plain": [
       "<Figure size 432x288 with 1 Axes>"
      ]
     },
     "metadata": {
      "needs_background": "light"
     },
     "output_type": "display_data"
    }
   ],
   "source": [
    "#scatterplot\n",
    "data.plot(kind = \"scatter\", x='Item_MRP',y='Item_Outlet_Sales')"
   ]
  },
  {
   "cell_type": "code",
   "execution_count": 16,
   "id": "c8a38589",
   "metadata": {
    "execution": {
     "iopub.execute_input": "2022-07-23T08:44:10.737165Z",
     "iopub.status.busy": "2022-07-23T08:44:10.736377Z",
     "iopub.status.idle": "2022-07-23T08:44:10.934239Z",
     "shell.execute_reply": "2022-07-23T08:44:10.932929Z"
    },
    "papermill": {
     "duration": 0.21324,
     "end_time": "2022-07-23T08:44:10.937201",
     "exception": false,
     "start_time": "2022-07-23T08:44:10.723961",
     "status": "completed"
    },
    "tags": []
   },
   "outputs": [
    {
     "data": {
      "text/plain": [
       "<AxesSubplot:xlabel='Item_Fat_Content', ylabel='Item_Outlet_Sales'>"
      ]
     },
     "execution_count": 16,
     "metadata": {},
     "output_type": "execute_result"
    },
    {
     "data": {
      "image/png": "[encoded data removed]",
      "text/plain": [
       "<Figure size 432x288 with 1 Axes>"
      ]
     },
     "metadata": {
      "needs_background": "light"
     },
     "output_type": "display_data"
    }
   ],
   "source": [
    "data.plot(kind=\"scatter\",x='Item_Fat_Content',y='Item_Outlet_Sales')"
   ]
  },
  {
   "cell_type": "code",
   "execution_count": 17,
   "id": "12e33938",
   "metadata": {
    "execution": {
     "iopub.execute_input": "2022-07-23T08:44:10.962915Z",
     "iopub.status.busy": "2022-07-23T08:44:10.961848Z",
     "iopub.status.idle": "2022-07-23T08:44:11.138216Z",
     "shell.execute_reply": "2022-07-23T08:44:11.137071Z"
    },
    "papermill": {
     "duration": 0.192184,
     "end_time": "2022-07-23T08:44:11.141047",
     "exception": false,
     "start_time": "2022-07-23T08:44:10.948863",
     "status": "completed"
    },
    "tags": []
   },
   "outputs": [
    {
     "data": {
      "text/plain": [
       "<AxesSubplot:xlabel='Item_Fat_Content', ylabel='count'>"
      ]
     },
     "execution_count": 17,
     "metadata": {},
     "output_type": "execute_result"
    },
    {
     "data": {
      "image/png": "[encoded data removed]",
      "text/plain": [
       "<Figure size 432x288 with 1 Axes>"
      ]
     },
     "metadata": {
      "needs_background": "light"
     },
     "output_type": "display_data"
    }
   ],
   "source": [
    "sns.countplot(x=data['Item_Fat_Content'])"
   ]
  },
  {
   "cell_type": "code",
   "execution_count": 18,
   "id": "51ddde0f",
   "metadata": {
    "execution": {
     "iopub.execute_input": "2022-07-23T08:44:11.166504Z",
     "iopub.status.busy": "2022-07-23T08:44:11.166133Z",
     "iopub.status.idle": "2022-07-23T08:44:11.553821Z",
     "shell.execute_reply": "2022-07-23T08:44:11.552557Z"
    },
    "papermill": {
     "duration": 0.403977,
     "end_time": "2022-07-23T08:44:11.556910",
     "exception": false,
     "start_time": "2022-07-23T08:44:11.152933",
     "status": "completed"
    },
    "tags": []
   },
   "outputs": [
    {
     "data": {
      "text/plain": [
       "array(['Dairy', 'Soft Drinks', 'Meat', 'Fruits and Vegetables',\n",
       "       'Household', 'Baking Goods', 'Snack Foods', 'Frozen Foods',\n",
       "       'Breakfast', 'Health and Hygiene', 'Hard Drinks', 'Canned',\n",
       "       'Breads', 'Starchy Foods', 'Others', 'Seafood'], dtype=object)"
      ]
     },
     "execution_count": 18,
     "metadata": {},
     "output_type": "execute_result"
    },
    {
     "data": {
      "image/png": "[encoded data removed]",
      "text/plain": [
       "<Figure size 1152x720 with 1 Axes>"
      ]
     },
     "metadata": {
      "needs_background": "light"
     },
     "output_type": "display_data"
    }
   ],
   "source": [
    "plt.figure(figsize=(16,10))\n",
    "sns.countplot(x=data['Item_Type'],hue=data['Item_Fat_Content'])\n",
    "plt.xticks(rotation=90)\n",
    "data['Item_Type'].unique()"
   ]
  },
  {
   "cell_type": "code",
   "execution_count": 19,
   "id": "82706824",
   "metadata": {
    "execution": {
     "iopub.execute_input": "2022-07-23T08:44:11.584242Z",
     "iopub.status.busy": "2022-07-23T08:44:11.583841Z",
     "iopub.status.idle": "2022-07-23T08:44:11.774499Z",
     "shell.execute_reply": "2022-07-23T08:44:11.773010Z"
    },
    "papermill": {
     "duration": 0.207996,
     "end_time": "2022-07-23T08:44:11.777630",
     "exception": false,
     "start_time": "2022-07-23T08:44:11.569634",
     "status": "completed"
    },
    "tags": []
   },
   "outputs": [
    {
     "data": {
      "text/plain": [
       "<AxesSubplot:xlabel='Outlet_Location_Type', ylabel='count'>"
      ]
     },
     "execution_count": 19,
     "metadata": {},
     "output_type": "execute_result"
    },
    {
     "data": {
      "image/png": "[encoded data removed]",
      "text/plain": [
       "<Figure size 432x288 with 1 Axes>"
      ]
     },
     "metadata": {
      "needs_background": "light"
     },
     "output_type": "display_data"
    }
   ],
   "source": [
    "sns.countplot(x=data['Outlet_Location_Type'])"
   ]
  },
  {
   "cell_type": "code",
   "execution_count": 20,
   "id": "4d2a9876",
   "metadata": {
    "execution": {
     "iopub.execute_input": "2022-07-23T08:44:11.806980Z",
     "iopub.status.busy": "2022-07-23T08:44:11.806593Z",
     "iopub.status.idle": "2022-07-23T08:44:11.999290Z",
     "shell.execute_reply": "2022-07-23T08:44:11.997728Z"
    },
    "papermill": {
     "duration": 0.210142,
     "end_time": "2022-07-23T08:44:12.001998",
     "exception": false,
     "start_time": "2022-07-23T08:44:11.791856",
     "status": "completed"
    },
    "tags": []
   },
   "outputs": [
    {
     "name": "stderr",
     "output_type": "stream",
     "text": [
      "/opt/conda/lib/python3.7/site-packages/seaborn/_decorators.py:43: FutureWarning: Pass the following variable as a keyword arg: x. From version 0.12, the only valid positional argument will be `data`, and passing other arguments without an explicit keyword will result in an error or misinterpretation.\n",
      "  FutureWarning\n"
     ]
    },
    {
     "data": {
      "text/plain": [
       "(array([0, 1, 2, 3]),\n",
       " [Text(0, 0, 'Supermarket Type1'),\n",
       "  Text(1, 0, 'Supermarket Type2'),\n",
       "  Text(2, 0, 'Grocery Store'),\n",
       "  Text(3, 0, 'Supermarket Type3')])"
      ]
     },
     "execution_count": 20,
     "metadata": {},
     "output_type": "execute_result"
    },
    {
     "data": {
      "image/png": "[encoded data removed]",
      "text/plain": [
       "<Figure size 432x288 with 1 Axes>"
      ]
     },
     "metadata": {
      "needs_background": "light"
     },
     "output_type": "display_data"
    }
   ],
   "source": [
    "sns.countplot(data['Outlet_Type'])\n",
    "plt.xticks(rotation=45)"
   ]
  },
  {
   "cell_type": "code",
   "execution_count": 21,
   "id": "fa1ac919",
   "metadata": {
    "execution": {
     "iopub.execute_input": "2022-07-23T08:44:12.031396Z",
     "iopub.status.busy": "2022-07-23T08:44:12.030991Z",
     "iopub.status.idle": "2022-07-23T08:44:12.326221Z",
     "shell.execute_reply": "2022-07-23T08:44:12.325115Z"
    },
    "papermill": {
     "duration": 0.313451,
     "end_time": "2022-07-23T08:44:12.329145",
     "exception": false,
     "start_time": "2022-07-23T08:44:12.015694",
     "status": "completed"
    },
    "tags": []
   },
   "outputs": [
    {
     "name": "stderr",
     "output_type": "stream",
     "text": [
      "/opt/conda/lib/python3.7/site-packages/seaborn/distributions.py:2619: FutureWarning: `distplot` is a deprecated function and will be removed in a future version. Please adapt your code to use either `displot` (a figure-level function with similar flexibility) or `histplot` (an axes-level function for histograms).\n",
      "  warnings.warn(msg, FutureWarning)\n"
     ]
    },
    {
     "data": {
      "text/plain": [
       "<AxesSubplot:xlabel='Item_MRP', ylabel='Density'>"
      ]
     },
     "execution_count": 21,
     "metadata": {},
     "output_type": "execute_result"
    },
    {
     "data": {
      "image/png": "[encoded data removed]",
      "text/plain": [
       "<Figure size 432x288 with 1 Axes>"
      ]
     },
     "metadata": {
      "needs_background": "light"
     },
     "output_type": "display_data"
    }
   ],
   "source": [
    "sns.distplot(data['Item_MRP'])"
   ]
  },
  {
   "cell_type": "code",
   "execution_count": 22,
   "id": "c8ca9937",
   "metadata": {
    "execution": {
     "iopub.execute_input": "2022-07-23T08:44:12.359303Z",
     "iopub.status.busy": "2022-07-23T08:44:12.358864Z",
     "iopub.status.idle": "2022-07-23T08:44:12.692267Z",
     "shell.execute_reply": "2022-07-23T08:44:12.690965Z"
    },
    "papermill": {
     "duration": 0.352044,
     "end_time": "2022-07-23T08:44:12.695354",
     "exception": false,
     "start_time": "2022-07-23T08:44:12.343310",
     "status": "completed"
    },
    "tags": []
   },
   "outputs": [
    {
     "name": "stderr",
     "output_type": "stream",
     "text": [
      "/opt/conda/lib/python3.7/site-packages/seaborn/distributions.py:2619: FutureWarning: `distplot` is a deprecated function and will be removed in a future version. Please adapt your code to use either `displot` (a figure-level function with similar flexibility) or `histplot` (an axes-level function for histograms).\n",
      "  warnings.warn(msg, FutureWarning)\n"
     ]
    },
    {
     "data": {
      "text/plain": [
       "<AxesSubplot:xlabel='Item_Outlet_Sales', ylabel='Density'>"
      ]
     },
     "execution_count": 22,
     "metadata": {},
     "output_type": "execute_result"
    },
    {
     "data": {
      "image/png": "[encoded data removed]",
      "text/plain": [
       "<Figure size 432x288 with 1 Axes>"
      ]
     },
     "metadata": {
      "needs_background": "light"
     },
     "output_type": "display_data"
    }
   ],
   "source": [
    "sns.distplot(data['Item_Outlet_Sales'])"
   ]
  },
  {
   "cell_type": "code",
   "execution_count": 23,
   "id": "432ce3b6",
   "metadata": {
    "execution": {
     "iopub.execute_input": "2022-07-23T08:44:12.727978Z",
     "iopub.status.busy": "2022-07-23T08:44:12.727564Z",
     "iopub.status.idle": "2022-07-23T08:44:13.082727Z",
     "shell.execute_reply": "2022-07-23T08:44:13.081832Z"
    },
    "papermill": {
     "duration": 0.374375,
     "end_time": "2022-07-23T08:44:13.085051",
     "exception": false,
     "start_time": "2022-07-23T08:44:12.710676",
     "status": "completed"
    },
    "tags": []
   },
   "outputs": [
    {
     "data": {
      "text/plain": [
       "<AxesSubplot:>"
      ]
     },
     "execution_count": 23,
     "metadata": {},
     "output_type": "execute_result"
    },
    {
     "data": {
      "image/png": "[encoded data removed]",
      "text/plain": [
       "<Figure size 864x720 with 2 Axes>"
      ]
     },
     "metadata": {
      "needs_background": "light"
     },
     "output_type": "display_data"
    }
   ],
   "source": [
    "plt.figure(figsize=(12,10))\n",
    "sns.heatmap(data.corr(),annot=True)"
   ]
  },
  {
   "cell_type": "code",
   "execution_count": 24,
   "id": "edc760e8",
   "metadata": {
    "execution": {
     "iopub.execute_input": "2022-07-23T08:44:13.117502Z",
     "iopub.status.busy": "2022-07-23T08:44:13.116740Z",
     "iopub.status.idle": "2022-07-23T08:44:13.273255Z",
     "shell.execute_reply": "2022-07-23T08:44:13.272113Z"
    },
    "papermill": {
     "duration": 0.17589,
     "end_time": "2022-07-23T08:44:13.276148",
     "exception": false,
     "start_time": "2022-07-23T08:44:13.100258",
     "status": "completed"
    },
    "tags": []
   },
   "outputs": [],
   "source": [
    "from sklearn.preprocessing import LabelEncoder \n",
    "le=LabelEncoder()\n",
    "data['Outlet']=le.fit_transform(data['Outlet_Identifier'])"
   ]
  },
  {
   "cell_type": "code",
   "execution_count": 25,
   "id": "22a8e39e",
   "metadata": {
    "execution": {
     "iopub.execute_input": "2022-07-23T08:44:13.308263Z",
     "iopub.status.busy": "2022-07-23T08:44:13.307876Z",
     "iopub.status.idle": "2022-07-23T08:44:13.330542Z",
     "shell.execute_reply": "2022-07-23T08:44:13.329250Z"
    },
    "papermill": {
     "duration": 0.041666,
     "end_time": "2022-07-23T08:44:13.333193",
     "exception": false,
     "start_time": "2022-07-23T08:44:13.291527",
     "status": "completed"
    },
    "tags": []
   },
   "outputs": [],
   "source": [
    "categorical_cols=['Item_Fat_Content','Item_Type','Outlet_Size','Outlet_Location_Type', 'Outlet_Type']\n",
    "for cols in categorical_cols:\n",
    "    data[cols]=le.fit_transform(data[cols])"
   ]
  },
  {
   "cell_type": "code",
   "execution_count": 26,
   "id": "ebeba854",
   "metadata": {
    "execution": {
     "iopub.execute_input": "2022-07-23T08:44:13.365460Z",
     "iopub.status.busy": "2022-07-23T08:44:13.365064Z",
     "iopub.status.idle": "2022-07-23T08:44:13.382875Z",
     "shell.execute_reply": "2022-07-23T08:44:13.381615Z"
    },
    "papermill": {
     "duration": 0.036658,
     "end_time": "2022-07-23T08:44:13.385190",
     "exception": false,
     "start_time": "2022-07-23T08:44:13.348532",
     "status": "completed"
    },
    "tags": []
   },
   "outputs": [
    {
     "data": {
      "text/html": [
       "<div>\n",
       "<style scoped>\n",
       "    .dataframe tbody tr th:only-of-type {\n",
       "        vertical-align: middle;\n",
       "    }\n",
       "\n",
       "    .dataframe tbody tr th {\n",
       "        vertical-align: top;\n",
       "    }\n",
       "\n",
       "    .dataframe thead th {\n",
       "        text-align: right;\n",
       "    }\n",
       "</style>\n",
       "<table border=\"1\" class=\"dataframe\">\n",
       "  <thead>\n",
       "    <tr style=\"text-align: right;\">\n",
       "      <th></th>\n",
       "      <th>Item_Identifier</th>\n",
       "      <th>Item_Weight</th>\n",
       "      <th>Item_Fat_Content</th>\n",
       "      <th>Item_Visibility</th>\n",
       "      <th>Item_Type</th>\n",
       "      <th>Item_MRP</th>\n",
       "      <th>Outlet_Identifier</th>\n",
       "      <th>Outlet_Establishment_Year</th>\n",
       "      <th>Outlet_Size</th>\n",
       "      <th>Outlet_Location_Type</th>\n",
       "      <th>Outlet_Type</th>\n",
       "      <th>Item_Outlet_Sales</th>\n",
       "      <th>Outlet</th>\n",
       "    </tr>\n",
       "  </thead>\n",
       "  <tbody>\n",
       "    <tr>\n",
       "      <th>0</th>\n",
       "      <td>FDA15</td>\n",
       "      <td>9.30</td>\n",
       "      <td>0</td>\n",
       "      <td>0.016047</td>\n",
       "      <td>4</td>\n",
       "      <td>249.8092</td>\n",
       "      <td>OUT049</td>\n",
       "      <td>1999</td>\n",
       "      <td>1</td>\n",
       "      <td>0</td>\n",
       "      <td>1</td>\n",
       "      <td>3735.1380</td>\n",
       "      <td>9</td>\n",
       "    </tr>\n",
       "    <tr>\n",
       "      <th>1</th>\n",
       "      <td>DRC01</td>\n",
       "      <td>5.92</td>\n",
       "      <td>1</td>\n",
       "      <td>0.019278</td>\n",
       "      <td>14</td>\n",
       "      <td>48.2692</td>\n",
       "      <td>OUT018</td>\n",
       "      <td>2009</td>\n",
       "      <td>1</td>\n",
       "      <td>2</td>\n",
       "      <td>2</td>\n",
       "      <td>443.4228</td>\n",
       "      <td>3</td>\n",
       "    </tr>\n",
       "    <tr>\n",
       "      <th>2</th>\n",
       "      <td>FDN15</td>\n",
       "      <td>17.50</td>\n",
       "      <td>0</td>\n",
       "      <td>0.016760</td>\n",
       "      <td>10</td>\n",
       "      <td>141.6180</td>\n",
       "      <td>OUT049</td>\n",
       "      <td>1999</td>\n",
       "      <td>1</td>\n",
       "      <td>0</td>\n",
       "      <td>1</td>\n",
       "      <td>2097.2700</td>\n",
       "      <td>9</td>\n",
       "    </tr>\n",
       "    <tr>\n",
       "      <th>3</th>\n",
       "      <td>FDX07</td>\n",
       "      <td>19.20</td>\n",
       "      <td>1</td>\n",
       "      <td>0.000000</td>\n",
       "      <td>6</td>\n",
       "      <td>182.0950</td>\n",
       "      <td>OUT010</td>\n",
       "      <td>1998</td>\n",
       "      <td>1</td>\n",
       "      <td>2</td>\n",
       "      <td>0</td>\n",
       "      <td>732.3800</td>\n",
       "      <td>0</td>\n",
       "    </tr>\n",
       "    <tr>\n",
       "      <th>4</th>\n",
       "      <td>NCD19</td>\n",
       "      <td>8.93</td>\n",
       "      <td>0</td>\n",
       "      <td>0.000000</td>\n",
       "      <td>9</td>\n",
       "      <td>53.8614</td>\n",
       "      <td>OUT013</td>\n",
       "      <td>1987</td>\n",
       "      <td>0</td>\n",
       "      <td>2</td>\n",
       "      <td>1</td>\n",
       "      <td>994.7052</td>\n",
       "      <td>1</td>\n",
       "    </tr>\n",
       "  </tbody>\n",
       "</table>\n",
       "</div>"
      ],
      "text/plain": [
       "  Item_Identifier  Item_Weight  Item_Fat_Content  Item_Visibility  Item_Type  \\\n",
       "0           FDA15         9.30                 0         0.016047          4   \n",
       "1           DRC01         5.92                 1         0.019278         14   \n",
       "2           FDN15        17.50                 0         0.016760         10   \n",
       "3           FDX07        19.20                 1         0.000000          6   \n",
       "4           NCD19         8.93                 0         0.000000          9   \n",
       "\n",
       "   Item_MRP Outlet_Identifier  Outlet_Establishment_Year  Outlet_Size  \\\n",
       "0  249.8092            OUT049                       1999            1   \n",
       "1   48.2692            OUT018                       2009            1   \n",
       "2  141.6180            OUT049                       1999            1   \n",
       "3  182.0950            OUT010                       1998            1   \n",
       "4   53.8614            OUT013                       1987            0   \n",
       "\n",
       "   Outlet_Location_Type  Outlet_Type  Item_Outlet_Sales  Outlet  \n",
       "0                     0            1          3735.1380       9  \n",
       "1                     2            2           443.4228       3  \n",
       "2                     0            1          2097.2700       9  \n",
       "3                     2            0           732.3800       0  \n",
       "4                     2            1           994.7052       1  "
      ]
     },
     "execution_count": 26,
     "metadata": {},
     "output_type": "execute_result"
    }
   ],
   "source": [
    "data.head()"
   ]
  },
  {
   "cell_type": "code",
   "execution_count": 27,
   "id": "a8f700f5",
   "metadata": {
    "execution": {
     "iopub.execute_input": "2022-07-23T08:44:13.424413Z",
     "iopub.status.busy": "2022-07-23T08:44:13.421784Z",
     "iopub.status.idle": "2022-07-23T08:44:13.431047Z",
     "shell.execute_reply": "2022-07-23T08:44:13.430102Z"
    },
    "papermill": {
     "duration": 0.032795,
     "end_time": "2022-07-23T08:44:13.433427",
     "exception": false,
     "start_time": "2022-07-23T08:44:13.400632",
     "status": "completed"
    },
    "tags": []
   },
   "outputs": [],
   "source": [
    "#split dataset\n",
    "X=data.drop(columns=['Item_Identifier','Outlet_Establishment_Year','Outlet_Identifier','Item_Outlet_Sales'])\n",
    "y=data['Item_Outlet_Sales']"
   ]
  },
  {
   "cell_type": "code",
   "execution_count": 28,
   "id": "f9ae50c8",
   "metadata": {
    "execution": {
     "iopub.execute_input": "2022-07-23T08:44:13.466696Z",
     "iopub.status.busy": "2022-07-23T08:44:13.466309Z",
     "iopub.status.idle": "2022-07-23T08:44:13.473953Z",
     "shell.execute_reply": "2022-07-23T08:44:13.472862Z"
    },
    "papermill": {
     "duration": 0.027226,
     "end_time": "2022-07-23T08:44:13.476319",
     "exception": false,
     "start_time": "2022-07-23T08:44:13.449093",
     "status": "completed"
    },
    "tags": []
   },
   "outputs": [
    {
     "data": {
      "text/plain": [
       "0    3735.1380\n",
       "1     443.4228\n",
       "2    2097.2700\n",
       "3     732.3800\n",
       "4     994.7052\n",
       "Name: Item_Outlet_Sales, dtype: float64"
      ]
     },
     "execution_count": 28,
     "metadata": {},
     "output_type": "execute_result"
    }
   ],
   "source": [
    "y.head()"
   ]
  },
  {
   "cell_type": "code",
   "execution_count": 29,
   "id": "d20846f9",
   "metadata": {
    "execution": {
     "iopub.execute_input": "2022-07-23T08:44:13.509154Z",
     "iopub.status.busy": "2022-07-23T08:44:13.508393Z",
     "iopub.status.idle": "2022-07-23T08:44:13.578984Z",
     "shell.execute_reply": "2022-07-23T08:44:13.577695Z"
    },
    "papermill": {
     "duration": 0.089558,
     "end_time": "2022-07-23T08:44:13.581320",
     "exception": false,
     "start_time": "2022-07-23T08:44:13.491762",
     "status": "completed"
    },
    "tags": []
   },
   "outputs": [
    {
     "name": "stdout",
     "output_type": "stream",
     "text": [
      "(6392, 9) (6392,)\n"
     ]
    }
   ],
   "source": [
    "#train and test split \n",
    "from sklearn.model_selection import train_test_split\n",
    "x_train,x_test,y_train,y_test=train_test_split(X,y,test_size=.25,random_state=42)\n",
    "print(x_train.shape,y_train.shape)"
   ]
  },
  {
   "cell_type": "code",
   "execution_count": 30,
   "id": "cb2bca28",
   "metadata": {
    "execution": {
     "iopub.execute_input": "2022-07-23T08:44:13.616391Z",
     "iopub.status.busy": "2022-07-23T08:44:13.615985Z",
     "iopub.status.idle": "2022-07-23T08:44:13.719643Z",
     "shell.execute_reply": "2022-07-23T08:44:13.718173Z"
    },
    "papermill": {
     "duration": 0.126955,
     "end_time": "2022-07-23T08:44:13.724510",
     "exception": false,
     "start_time": "2022-07-23T08:44:13.597555",
     "status": "completed"
    },
    "tags": []
   },
   "outputs": [],
   "source": [
    "from sklearn.linear_model import LinearRegression \n",
    "lr=LinearRegression()\n",
    "model=lr.fit(x_train,y_train)"
   ]
  },
  {
   "cell_type": "code",
   "execution_count": 31,
   "id": "bb58a12a",
   "metadata": {
    "execution": {
     "iopub.execute_input": "2022-07-23T08:44:13.763670Z",
     "iopub.status.busy": "2022-07-23T08:44:13.762443Z",
     "iopub.status.idle": "2022-07-23T08:44:13.784468Z",
     "shell.execute_reply": "2022-07-23T08:44:13.782891Z"
    },
    "papermill": {
     "duration": 0.044023,
     "end_time": "2022-07-23T08:44:13.788351",
     "exception": false,
     "start_time": "2022-07-23T08:44:13.744328",
     "status": "completed"
    },
    "tags": []
   },
   "outputs": [
    {
     "data": {
      "text/plain": [
       "0.5114037590005387"
      ]
     },
     "execution_count": 31,
     "metadata": {},
     "output_type": "execute_result"
    }
   ],
   "source": [
    "from sklearn.metrics import r2_score\n",
    "r2_score(y_test, model.predict(x_test))"
   ]
  },
  {
   "cell_type": "markdown",
   "id": "ca7344ae",
   "metadata": {
    "papermill": {
     "duration": 0.0282,
     "end_time": "2022-07-23T08:44:13.845943",
     "exception": false,
     "start_time": "2022-07-23T08:44:13.817743",
     "status": "completed"
    },
    "tags": []
   },
   "source": []
  }
 ],
 "metadata": {
  "kernelspec": {
   "display_name": "Python 3",
   "language": "python",
   "name": "python3"
  },
  "language_info": {
   "codemirror_mode": {
    "name": "ipython",
    "version": 3
   },
   "file_extension": ".py",
   "mimetype": "text/x-python",
   "name": "python",
   "nbconvert_exporter": "python",
   "pygments_lexer": "ipython3",
   "version": "3.7.12"
  },
  "papermill": {
   "default_parameters": {},
   "duration": 19.784266,
   "end_time": "2022-07-23T08:44:17.420367",
   "environment_variables": {},
   "exception": null,
   "input_path": "__notebook__.ipynb",
   "output_path": "__notebook__.ipynb",
   "parameters": {},
   "start_time": "2022-07-23T08:43:57.636101",
   "version": "2.3.4"
  }
 },
 "nbformat": 4,
 "nbformat_minor": 5
}
